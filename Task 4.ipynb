{
 "cells": [
  {
   "cell_type": "code",
   "execution_count": 1,
   "metadata": {},
   "outputs": [
    {
     "name": "stdout",
     "output_type": "stream",
     "text": [
      "Введите вашу строку пммн нпг епниг анепи вууы!\n",
      "1) пммн\n",
      "2) нпг\n",
      "3) епниг\n",
      "4) анепи\n",
      "5) вууы!\n"
     ]
    }
   ],
   "source": [
    "my_string = input('Введите вашу строку ')\n",
    "word_list = my_string.split()\n",
    "for i in range(len(word_list)):\n",
    "    if len(word_list[i]) > 10:\n",
    "        print('{0}) {1}'.format(i+1, word_list[i][0:10]))\n",
    "    else:\n",
    "        print('{0}) {1}'.format(i+1, word_list[i]))"
   ]
  },
  {
   "cell_type": "code",
   "execution_count": null,
   "metadata": {},
   "outputs": [],
   "source": []
  }
 ],
 "metadata": {
  "kernelspec": {
   "display_name": "Python 3",
   "language": "python",
   "name": "python3"
  },
  "language_info": {
   "codemirror_mode": {
    "name": "ipython",
    "version": 3
   },
   "file_extension": ".py",
   "mimetype": "text/x-python",
   "name": "python",
   "nbconvert_exporter": "python",
   "pygments_lexer": "ipython3",
   "version": "3.7.6"
  }
 },
 "nbformat": 4,
 "nbformat_minor": 4
}
