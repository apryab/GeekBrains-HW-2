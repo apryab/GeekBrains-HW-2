{
 "cells": [
  {
   "cell_type": "code",
   "execution_count": null,
   "metadata": {},
   "outputs": [],
   "source": [
    "goods = []\n",
    "choice = 1\n",
    "n = 1\n",
    "while choice != 0:\n",
    "    print('Хотите ли вы добавить элемент в список?')\n",
    "    print('Любое число - да')\n",
    "    print('0 - нет')\n",
    "    choice = input()\n",
    "    print()\n",
    "    if choice == '0':\n",
    "        break\n",
    "    elif not choice.isdigit():\n",
    "        print('Вы ввели не число')\n",
    "    else:\n",
    "        name = input('Введите название вашего товара ')\n",
    "        price = input('Введите цену вашего товара ')\n",
    "        quantity = input('Введите количество вашего товара ')\n",
    "        unit = input('Введите единицы измерения вашего товара ')\n",
    "        print()\n",
    "        my_dict = dict(название = name, цена = price, количество = quantity, ед = unit)\n",
    "        my_tuple = (n, my_dict)\n",
    "        n += 1\n",
    "        goods.append(my_tuple)\n",
    "print('Структура goods')\n",
    "print(goods)\n",
    "analysis_dict = {}\n",
    "name_list = ['название', 'цена', 'количество', 'ед']\n",
    "for elem in name_list:\n",
    "    temp_dict = {elem : []}\n",
    "    analysis_dict.update(temp_dict)\n",
    "    temp_dict.clear()\n",
    "    for i in range(len(goods)):\n",
    "        if not goods[i][1].get(elem) in analysis_dict.get(elem):\n",
    "            analysis_dict.get(elem).append(goods[i][1].get(elem))\n",
    "print()\n",
    "print('Словарь для анализа')\n",
    "print(analysis_dict)\n",
    "    \n",
    "        \n",
    "    "
   ]
  }
 ],
 "metadata": {
  "kernelspec": {
   "display_name": "Python 3",
   "language": "python",
   "name": "python3"
  },
  "language_info": {
   "codemirror_mode": {
    "name": "ipython",
    "version": 3
   },
   "file_extension": ".py",
   "mimetype": "text/x-python",
   "name": "python",
   "nbconvert_exporter": "python",
   "pygments_lexer": "ipython3",
   "version": "3.7.6"
  }
 },
 "nbformat": 4,
 "nbformat_minor": 4
}
