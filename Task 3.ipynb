{
 "cells": [
  {
   "cell_type": "code",
   "execution_count": 1,
   "metadata": {},
   "outputs": [
    {
     "name": "stdout",
     "output_type": "stream",
     "text": [
      "Введите номер вашего месяца 5\n",
      "Это время года - весна\n",
      "Это время года - весна\n"
     ]
    }
   ],
   "source": [
    "my_dict = dict(зима = [1, 2, 12], весна = [3, 4, 5], лето = [6, 7, 8], осень = [9, 10 , 11])\n",
    "my_list_numbers = [[1, 2, 12], [3, 4, 5], [6, 7, 8], [9, 10, 11]]\n",
    "my_list_seasons = ['зима', 'весна', 'лето', 'осень']\n",
    "while True:\n",
    "    month = input('Введите номер вашего месяца ')\n",
    "    if(month.isdigit()):\n",
    "        month = int(month)\n",
    "        if month > 0 and month < 13:\n",
    "            break\n",
    "        else:\n",
    "            print('Вы ввели не номер месяца')\n",
    "    else:\n",
    "        print('Вы ввели не число')\n",
    "for elem in my_dict.keys():\n",
    "    if month in my_dict.get(elem):\n",
    "        print('Это время года -',elem)\n",
    "        break\n",
    "for i in range(len(my_list_numbers)):\n",
    "    if month in my_list_numbers[i]:\n",
    "        print('Это время года -',my_list_seasons[i])\n",
    "        break\n",
    "        "
   ]
  },
  {
   "cell_type": "code",
   "execution_count": null,
   "metadata": {},
   "outputs": [],
   "source": []
  }
 ],
 "metadata": {
  "kernelspec": {
   "display_name": "Python 3",
   "language": "python",
   "name": "python3"
  },
  "language_info": {
   "codemirror_mode": {
    "name": "ipython",
    "version": 3
   },
   "file_extension": ".py",
   "mimetype": "text/x-python",
   "name": "python",
   "nbconvert_exporter": "python",
   "pygments_lexer": "ipython3",
   "version": "3.7.6"
  }
 },
 "nbformat": 4,
 "nbformat_minor": 4
}
