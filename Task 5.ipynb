{
 "cells": [
  {
   "cell_type": "code",
   "execution_count": 1,
   "metadata": {},
   "outputs": [
    {
     "name": "stdout",
     "output_type": "stream",
     "text": [
      "Хотите ли вы добавить элемент в список?\n",
      "Любое число - да\n",
      "0 - нет\n",
      "3\n",
      "Введите ваше число 9\n",
      "[9]\n",
      "Хотите ли вы добавить элемент в список?\n",
      "Любое число - да\n",
      "0 - нет\n",
      "6\n",
      "Введите ваше число 4\n",
      "[9, 4]\n",
      "Хотите ли вы добавить элемент в список?\n",
      "Любое число - да\n",
      "0 - нет\n",
      "5\n",
      "Введите ваше число 5\n",
      "[9, 5, 4]\n",
      "Хотите ли вы добавить элемент в список?\n",
      "Любое число - да\n",
      "0 - нет\n",
      "3\n",
      "Введите ваше число 4\n",
      "[9, 5, 4, 4]\n",
      "Хотите ли вы добавить элемент в список?\n",
      "Любое число - да\n",
      "0 - нет\n",
      "0\n",
      "[9, 5, 4, 4]\n"
     ]
    }
   ],
   "source": [
    "rating = []\n",
    "choice = 1\n",
    "while choice != 0:\n",
    "    print('Хотите ли вы добавить элемент в список?')\n",
    "    print('Любое число - да')\n",
    "    print('0 - нет')\n",
    "    choice = input()\n",
    "    if choice.isdigit():\n",
    "        choice = int(choice)\n",
    "        if choice != 0:\n",
    "            numb = input('Введите ваше число ')\n",
    "            if numb.isdigit():\n",
    "                numb = int(numb)\n",
    "                if numb > 0:\n",
    "                    if(len(rating) == 0):\n",
    "                        rating.append(numb)\n",
    "                    else:\n",
    "                        for i in range(len(rating)):\n",
    "                            if rating[i] < numb:\n",
    "                                rating.insert(i, numb)\n",
    "                                break;\n",
    "                            if i == len(rating)-1:\n",
    "                                rating.append(numb)\n",
    "                else:\n",
    "                    print('Нужно положительное число!')\n",
    "            else:\n",
    "                print('Вы ввели не число')\n",
    "    else:\n",
    "        print('Вы ввели не число')\n",
    "    print(rating)\n",
    "        \n",
    "            \n",
    "    \n"
   ]
  },
  {
   "cell_type": "code",
   "execution_count": null,
   "metadata": {},
   "outputs": [],
   "source": []
  }
 ],
 "metadata": {
  "kernelspec": {
   "display_name": "Python 3",
   "language": "python",
   "name": "python3"
  },
  "language_info": {
   "codemirror_mode": {
    "name": "ipython",
    "version": 3
   },
   "file_extension": ".py",
   "mimetype": "text/x-python",
   "name": "python",
   "nbconvert_exporter": "python",
   "pygments_lexer": "ipython3",
   "version": "3.7.6"
  }
 },
 "nbformat": 4,
 "nbformat_minor": 4
}
