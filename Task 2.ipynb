{
 "cells": [
  {
   "cell_type": "code",
   "execution_count": 1,
   "metadata": {},
   "outputs": [
    {
     "name": "stdout",
     "output_type": "stream",
     "text": [
      "Хотите ли вы добавить элемент в список?\n",
      "Любое число - да\n",
      "0 - нет\n",
      "3\n",
      "Введите, что бы вы хотели добавить в список 1\n",
      "Хотите ли вы добавить элемент в список?\n",
      "Любое число - да\n",
      "0 - нет\n",
      "1\n",
      "Введите, что бы вы хотели добавить в список \n",
      "Хотите ли вы добавить элемент в список?\n",
      "Любое число - да\n",
      "0 - нет\n",
      "0\n",
      "Длина списка - 2\n",
      "['1', '']\n",
      "['', '1']\n"
     ]
    }
   ],
   "source": [
    "choice = 1\n",
    "my_list = []\n",
    "while choice != 0:\n",
    "    print('Хотите ли вы добавить элемент в список?')\n",
    "    print('Любое число - да')\n",
    "    print('0 - нет')\n",
    "    choice = input()\n",
    "    if choice.isdigit():\n",
    "        choice = int(choice)\n",
    "        if choice != 0:\n",
    "            new_var = input('Введите, что бы вы хотели добавить в список ')\n",
    "            my_list.append(new_var)\n",
    "    else:\n",
    "        print('Вы ввели не число')\n",
    "n = len(my_list)\n",
    "print('Длина списка -',n)\n",
    "numb_of_changes = n if n % 2 == 0 else (n-1)\n",
    "print(my_list)\n",
    "for i in range(0, numb_of_changes, 2):\n",
    "    temp = my_list[i]\n",
    "    my_list[i] = my_list[i+1]\n",
    "    my_list[i+1] = temp\n",
    "print(my_list)\n",
    "    "
   ]
  },
  {
   "cell_type": "code",
   "execution_count": null,
   "metadata": {},
   "outputs": [],
   "source": []
  }
 ],
 "metadata": {
  "kernelspec": {
   "display_name": "Python 3",
   "language": "python",
   "name": "python3"
  },
  "language_info": {
   "codemirror_mode": {
    "name": "ipython",
    "version": 3
   },
   "file_extension": ".py",
   "mimetype": "text/x-python",
   "name": "python",
   "nbconvert_exporter": "python",
   "pygments_lexer": "ipython3",
   "version": "3.7.6"
  }
 },
 "nbformat": 4,
 "nbformat_minor": 4
}
